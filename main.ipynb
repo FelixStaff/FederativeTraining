{
 "cells": [
  {
   "cell_type": "code",
   "execution_count": 1,
   "id": "4c384b07",
   "metadata": {},
   "outputs": [],
   "source": [
    "from data.mnist import load_mnist, partition_dataset\n",
    "from train.pipeline.trainer import FederatedTrainer"
   ]
  },
  {
   "cell_type": "code",
   "execution_count": 2,
   "id": "c2fae8ce",
   "metadata": {},
   "outputs": [
    {
     "name": "stdout",
     "output_type": "stream",
     "text": [
      "[Cliente 0] Cargando modelo desde disco.\n",
      "[Cliente 0] Accuracy en test global: 0.8756\n",
      "[Cliente 1] Cargando modelo desde disco.\n",
      "[Cliente 1] Accuracy en test global: 0.8500\n",
      "[Cliente 2] Cargando modelo desde disco.\n",
      "[Cliente 2] Accuracy en test global: 0.8700\n",
      "[Cliente 3] Cargando modelo desde disco.\n",
      "[Cliente 3] Accuracy en test global: 0.8616\n",
      "[Cliente 4] Cargando modelo desde disco.\n",
      "[Cliente 4] Accuracy en test global: 0.8607\n",
      "[Cliente 5] Cargando modelo desde disco.\n",
      "[Cliente 5] Accuracy en test global: 0.8730\n",
      "\n",
      "--- Reporte por Cliente ---\n",
      "Cliente 0: 0.8756\n",
      "Cliente 1: 0.8500\n",
      "Cliente 2: 0.8700\n",
      "Cliente 3: 0.8616\n",
      "Cliente 4: 0.8607\n",
      "Cliente 5: 0.8730\n",
      "Promedio individual: 0.8651\n"
     ]
    }
   ],
   "source": [
    "\n",
    "train_data, test_data = load_mnist()\n",
    "client_data = partition_dataset(train_data, num_clients=6)\n",
    "\n",
    "federated = FederatedTrainer(client_data, test_data)\n",
    "federated.train_or_load_clients()\n",
    "\n",
    "federated.report()"
   ]
  },
  {
   "cell_type": "code",
   "execution_count": 3,
   "id": "42f8b7b8",
   "metadata": {},
   "outputs": [
    {
     "name": "stdout",
     "output_type": "stream",
     "text": [
      "[Global] Modelo combinado (FedAvg simple) Accuracy en test global: 0.8282\n",
      "              precision    recall  f1-score   support\n",
      "\n",
      "           0     0.9085    0.8816    0.8949       980\n",
      "           1     0.9899    0.8634    0.9224      1135\n",
      "           2     0.8606    0.8614    0.8610      1032\n",
      "           3     0.9800    0.5327    0.6902      1010\n",
      "           4     0.9248    0.7261    0.8135       982\n",
      "           5     0.5837    0.9182    0.7137       892\n",
      "           6     0.9466    0.8330    0.8862       958\n",
      "           7     0.8890    0.9115    0.9001      1028\n",
      "           8     0.6943    0.8696    0.7721       974\n",
      "           9     0.7563    0.8890    0.8173      1009\n",
      "\n",
      "    accuracy                         0.8282     10000\n",
      "   macro avg     0.8534    0.8286    0.8271     10000\n",
      "weighted avg     0.8581    0.8282    0.8296     10000\n",
      "\n",
      "[Global] Modelo combinado (FedAvg ponderado) Accuracy en test global: 0.8285\n",
      "              precision    recall  f1-score   support\n",
      "\n",
      "           0     0.9085    0.8816    0.8949       980\n",
      "           1     0.9899    0.8652    0.9234      1135\n",
      "           2     0.8606    0.8614    0.8610      1032\n",
      "           3     0.9799    0.5307    0.6885      1010\n",
      "           4     0.9261    0.7271    0.8146       982\n",
      "           5     0.5846    0.9182    0.7143       892\n",
      "           6     0.9457    0.8361    0.8875       958\n",
      "           7     0.8882    0.9115    0.8997      1028\n",
      "           8     0.6954    0.8696    0.7728       974\n",
      "           9     0.7561    0.8880    0.8168      1009\n",
      "\n",
      "    accuracy                         0.8285     10000\n",
      "   macro avg     0.8535    0.8289    0.8273     10000\n",
      "weighted avg     0.8582    0.8285    0.8298     10000\n",
      "\n",
      "[Global] Modelo combinado (Ensamble bayesiano) Accuracy en test global: 0.8972\n",
      "              precision    recall  f1-score   support\n",
      "\n",
      "           0     0.9314    0.9694    0.9500       980\n",
      "           1     0.9273    0.9771    0.9515      1135\n",
      "           2     0.8335    0.9021    0.8664      1032\n",
      "           3     0.9748    0.7653    0.8575      1010\n",
      "           4     0.9061    0.9134    0.9097       982\n",
      "           5     0.8501    0.8520    0.8511       892\n",
      "           6     0.9005    0.9447    0.9221       958\n",
      "           7     0.9116    0.9027    0.9071      1028\n",
      "           8     0.8333    0.8676    0.8501       974\n",
      "           9     0.9171    0.8662    0.8909      1009\n",
      "\n",
      "    accuracy                         0.8972     10000\n",
      "   macro avg     0.8986    0.8961    0.8956     10000\n",
      "weighted avg     0.8995    0.8972    0.8967     10000\n",
      "\n"
     ]
    },
    {
     "data": {
      "text/plain": [
       "'              precision    recall  f1-score   support\\n\\n           0     0.9314    0.9694    0.9500       980\\n           1     0.9273    0.9771    0.9515      1135\\n           2     0.8335    0.9021    0.8664      1032\\n           3     0.9748    0.7653    0.8575      1010\\n           4     0.9061    0.9134    0.9097       982\\n           5     0.8501    0.8520    0.8511       892\\n           6     0.9005    0.9447    0.9221       958\\n           7     0.9116    0.9027    0.9071      1028\\n           8     0.8333    0.8676    0.8501       974\\n           9     0.9171    0.8662    0.8909      1009\\n\\n    accuracy                         0.8972     10000\\n   macro avg     0.8986    0.8961    0.8956     10000\\nweighted avg     0.8995    0.8972    0.8967     10000\\n'"
      ]
     },
     "execution_count": 3,
     "metadata": {},
     "output_type": "execute_result"
    }
   ],
   "source": [
    "# FedAvg simple\n",
    "model_avg = federated.aggregate_simple()\n",
    "federated.evaluate_global(model_avg, name='Modelo combinado (FedAvg simple)')\n",
    "# [Classification report] (opcional)\n",
    "federated.classification_report(model_avg)\n",
    "\n",
    "# FedAvg ponderado (por accuracy)\n",
    "model_weighted = federated.aggregate_weighted(federated.accuracies)\n",
    "federated.evaluate_global(model_weighted, name='Modelo combinado (FedAvg ponderado)')\n",
    "# [Classification report] (opcional)\n",
    "federated.classification_report(model_weighted)\n",
    "\n",
    "# Ensamble bayesiano\n",
    "model_ensemble = federated.build_ensemble_model(top_k=3)\n",
    "federated.evaluate_global(model_ensemble, name='Modelo combinado (Ensamble bayesiano)')\n",
    "# [Classification report] (opcional)\n",
    "federated.classification_report(model_ensemble)"
   ]
  }
 ],
 "metadata": {
  "kernelspec": {
   "display_name": "MLearn",
   "language": "python",
   "name": "python3"
  },
  "language_info": {
   "codemirror_mode": {
    "name": "ipython",
    "version": 3
   },
   "file_extension": ".py",
   "mimetype": "text/x-python",
   "name": "python",
   "nbconvert_exporter": "python",
   "pygments_lexer": "ipython3",
   "version": "3.11.8"
  }
 },
 "nbformat": 4,
 "nbformat_minor": 5
}
